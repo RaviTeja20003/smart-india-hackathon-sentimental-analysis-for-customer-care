{
  "cells": [
    {
      "cell_type": "code",
      "execution_count": 2,
      "metadata": {
        "id": "-x9BVDAc41Qd"
      },
      "outputs": [],
      "source": [
        "# Import required libraries\n",
        "import numpy as np  # For numerical operations\n",
        "import os  # For file and directory operations\n",
        "import librosa  # For audio processing\n",
        "from keras.models import Model  # For creating the Keras model\n",
        "from keras.layers import Input, LSTM, Dense, Dropout, Activation, Bidirectional  # For layers in the model\n",
        "from keras.callbacks import EarlyStopping, ReduceLROnPlateau\n",
        "from tensorflow.keras.optimizers import Adam  # For the optimizer\n",
        "from tensorflow.keras.utils import to_categorical  # For one-hot encoding\n",
        "from sklearn.model_selection import train_test_split  # For splitting the dataset"
      ]
    },
    {
      "cell_type": "code",
      "execution_count": 3,
      "metadata": {
        "id": "90HY2NCH46FF"
      },
      "outputs": [],
      "source": [
        "# Function to extract MFCC features from an audio file\n",
        "def mfcc_extract(wavfile_name):\n",
        "    y, sr = librosa.load(wavfile_name)\n",
        "    mfcc = np.mean(librosa.feature.mfcc(y=y, sr=sr, n_mfcc=40).T, axis=0)\n",
        "    return mfcc"
      ]
    },
    {
      "cell_type": "code",
      "execution_count": 9,
      "metadata": {},
      "outputs": [
        {
          "data": {
            "text/plain": [
              "'2.10.0'"
            ]
          },
          "execution_count": 9,
          "metadata": {},
          "output_type": "execute_result"
        }
      ],
      "source": [
        "import keras\n",
        "keras.__version__"
      ]
    },
    {
      "cell_type": "code",
      "execution_count": 10,
      "metadata": {
        "id": "lihz32ad5UDh"
      },
      "outputs": [],
      "source": [
        "import tensorflow as tf\n",
        "model = tf.keras.models.load_model('D:/PROJECTS/SIH_HACKATHON/ravdess_dataset/saved_model/emotion_acc-82.h5',compile= False)\n"
      ]
    },
    {
      "cell_type": "code",
      "execution_count": 11,
      "metadata": {},
      "outputs": [],
      "source": [
        "model.compile(loss={\"emotion_output\": \"categorical_crossentropy\", \"gender_output\": \"categorical_crossentropy\"},\n",
        "                  optimizer='Adam',\n",
        "                  metrics=['accuracy'])"
      ]
    },
    {
      "cell_type": "code",
      "execution_count": 12,
      "metadata": {
        "id": "Qc1AVc0o7xoL"
      },
      "outputs": [],
      "source": [
        "# Emotion and Gender labels\n",
        "emotions = {1: 'neutral', 2: 'calm', 3: 'happy', 4: 'sad', 5: 'angry', 6: 'fearful', 7: 'disgust', 8: 'surprised'}\n",
        "genders = {0: 'female', 1: 'male'}"
      ]
    },
    {
      "cell_type": "code",
      "execution_count": 13,
      "metadata": {
        "id": "oj-HTIN449Rt"
      },
      "outputs": [],
      "source": [
        "def predict(wavfile_testname):\n",
        "    test_point = mfcc_extract(wavfile_testname)\n",
        "    test_point = np.reshape(test_point, newshape=(1, 40, 1))\n",
        "    predictions = model.predict(test_point)\n",
        "\n",
        "    print(\"Emotion:\", emotions[np.argmax(predictions[0]) + 1])\n",
        "    print(\"Gender:\", genders[np.argmax(predictions[1])])"
      ]
    },
    {
      "cell_type": "code",
      "execution_count": 15,
      "metadata": {
        "colab": {
          "base_uri": "https://localhost:8080/"
        },
        "id": "7eR8jyOY7b7R",
        "outputId": "6b6d3cd1-0889-4d8f-85a6-67f9cc32de65"
      },
      "outputs": [
        {
          "name": "stdout",
          "output_type": "stream",
          "text": [
            "1/1 [==============================] - 6s 6s/step\n",
            "Emotion: neutral\n",
            "Gender: female\n"
          ]
        }
      ],
      "source": [
        "predict(\"D:/PROJECTS/SIH_HACKATHON/ravdess_dataset/data/Actor_02/03-01-01-01-01-01-02.wav\")"
      ]
    },
    {
      "cell_type": "code",
      "execution_count": 12,
      "metadata": {
        "colab": {
          "base_uri": "https://localhost:8080/"
        },
        "id": "BapgrBtP7hgF",
        "outputId": "9fc9acb3-9d97-414c-e4f8-3888155ba9ad"
      },
      "outputs": [
        {
          "name": "stdout",
          "output_type": "stream",
          "text": [
            "1/1 [==============================] - 0s 53ms/step\n",
            "Emotion: happy\n",
            "Gender: female\n"
          ]
        }
      ],
      "source": [
        "predict(\"/content/drive/MyDrive/sih_dat/Actor_02/03-01-03-01-01-01-02.wav\")"
      ]
    },
    {
      "cell_type": "code",
      "execution_count": 13,
      "metadata": {
        "colab": {
          "base_uri": "https://localhost:8080/"
        },
        "id": "cmjZIsph8Dxo",
        "outputId": "62c25669-78cc-4ddf-a6c3-ca6787c2fec9"
      },
      "outputs": [
        {
          "name": "stdout",
          "output_type": "stream",
          "text": [
            "1/1 [==============================] - 0s 147ms/step\n",
            "Emotion: sad\n",
            "Gender: female\n"
          ]
        }
      ],
      "source": [
        "predict(\"/content/drive/MyDrive/sih_dat/Actor_02/03-01-04-01-01-01-02.wav\")"
      ]
    },
    {
      "cell_type": "code",
      "execution_count": 14,
      "metadata": {
        "colab": {
          "base_uri": "https://localhost:8080/"
        },
        "id": "4LW1vT9a8Vaw",
        "outputId": "b7f0fc42-d3d6-48a5-a4fc-fe17ed92221a"
      },
      "outputs": [
        {
          "name": "stdout",
          "output_type": "stream",
          "text": [
            "1/1 [==============================] - 0s 57ms/step\n",
            "Emotion: angry\n",
            "Gender: female\n"
          ]
        }
      ],
      "source": [
        "predict(\"/content/drive/MyDrive/sih_dat/Actor_02/03-01-05-01-01-01-02.wav\")"
      ]
    },
    {
      "cell_type": "code",
      "execution_count": 15,
      "metadata": {
        "colab": {
          "base_uri": "https://localhost:8080/"
        },
        "id": "DLWt65Zy8hdN",
        "outputId": "03bde684-d23b-4ad2-c783-cefdb10e4cc3"
      },
      "outputs": [
        {
          "name": "stdout",
          "output_type": "stream",
          "text": [
            "1/1 [==============================] - 0s 31ms/step\n",
            "Emotion: neutral\n",
            "Gender: male\n"
          ]
        }
      ],
      "source": [
        "predict(\"/content/drive/MyDrive/sih_dat/Actor_05/03-01-01-01-01-02-05.wav\")"
      ]
    },
    {
      "cell_type": "code",
      "execution_count": 16,
      "metadata": {
        "colab": {
          "base_uri": "https://localhost:8080/"
        },
        "id": "wGBGV07m8rYf",
        "outputId": "c7860bb2-8431-4dd5-8bc1-bf7ecfe02994"
      },
      "outputs": [
        {
          "name": "stdout",
          "output_type": "stream",
          "text": [
            "1/1 [==============================] - 0s 52ms/step\n",
            "Emotion: happy\n",
            "Gender: male\n"
          ]
        }
      ],
      "source": [
        "predict(\"/content/drive/MyDrive/sih_dat/Actor_05/03-01-03-01-01-01-05.wav\")"
      ]
    },
    {
      "cell_type": "code",
      "execution_count": 17,
      "metadata": {
        "colab": {
          "base_uri": "https://localhost:8080/"
        },
        "id": "4ETQYp3885m6",
        "outputId": "7e6fa845-6aac-4a4d-fa26-043e2ff13756"
      },
      "outputs": [
        {
          "name": "stdout",
          "output_type": "stream",
          "text": [
            "1/1 [==============================] - 0s 45ms/step\n",
            "Emotion: sad\n",
            "Gender: male\n"
          ]
        }
      ],
      "source": [
        "predict(\"/content/drive/MyDrive/sih_dat/Actor_05/03-01-04-01-01-02-05.wav\")"
      ]
    },
    {
      "cell_type": "code",
      "execution_count": 18,
      "metadata": {
        "colab": {
          "base_uri": "https://localhost:8080/"
        },
        "id": "KslaMjnq8-tX",
        "outputId": "65b38463-f069-4208-9c4f-6b1ae253624c"
      },
      "outputs": [
        {
          "name": "stdout",
          "output_type": "stream",
          "text": [
            "1/1 [==============================] - 0s 129ms/step\n",
            "Emotion: angry\n",
            "Gender: male\n"
          ]
        }
      ],
      "source": [
        "predict(\"/content/drive/MyDrive/sih_dat/Actor_05/03-01-05-01-01-01-05.wav\")"
      ]
    },
    {
      "cell_type": "code",
      "execution_count": null,
      "metadata": {
        "id": "niJGnsmN9Eeq"
      },
      "outputs": [],
      "source": []
    }
  ],
  "metadata": {
    "colab": {
      "provenance": []
    },
    "kernelspec": {
      "display_name": "Python 3",
      "name": "python3"
    },
    "language_info": {
      "codemirror_mode": {
        "name": "ipython",
        "version": 3
      },
      "file_extension": ".py",
      "mimetype": "text/x-python",
      "name": "python",
      "nbconvert_exporter": "python",
      "pygments_lexer": "ipython3",
      "version": "3.9.18"
    }
  },
  "nbformat": 4,
  "nbformat_minor": 0
}
